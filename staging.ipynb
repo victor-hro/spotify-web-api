{
 "cells": [
  {
   "cell_type": "code",
   "execution_count": 1,
   "metadata": {},
   "outputs": [
    {
     "name": "stdout",
     "output_type": "stream",
     "text": [
      "Connected to the database SPOTIFY.\n"
     ]
    }
   ],
   "source": [
    "import requests\n",
    "import base64\n",
    "import pandas as pd\n",
    "import os\n",
    "from dotenv import find_dotenv, load_dotenv\n",
    "\n",
    "from src.database_operations import DatabaseOps\n",
    "from src.spotify_api import SpotifyAPI\n",
    "database = DatabaseOps()\n",
    "database.connect_db()"
   ]
  },
  {
   "cell_type": "code",
   "execution_count": 2,
   "metadata": {},
   "outputs": [
    {
     "data": {
      "text/plain": [
       "True"
      ]
     },
     "execution_count": 2,
     "metadata": {},
     "output_type": "execute_result"
    }
   ],
   "source": [
    "env = find_dotenv()\n",
    "load_dotenv(env)"
   ]
  },
  {
   "cell_type": "code",
   "execution_count": 3,
   "metadata": {},
   "outputs": [
    {
     "name": "stdout",
     "output_type": "stream",
     "text": [
      "Auth URL: https://accounts.spotify.com/authorize?client_id=1cfc29c01f6f442e8fb4b045965c923c&response_type=code&redirect_uri=http%3A%2F%2Flocalhost%3A5000%2Fcallback&scope=user-library-read+user-top-read\n",
      "Token de acesso obtido com sucesso!\n",
      "Token de acesso válido.\n"
     ]
    }
   ],
   "source": [
    "api = SpotifyAPI()"
   ]
  },
  {
   "cell_type": "code",
   "execution_count": 7,
   "metadata": {},
   "outputs": [],
   "source": [
    "parameters = {\n",
    "    'time_range': 'long_term',  # Período de tempo: short_term, medium_term, long_term\n",
    "    'limit': 10,  # Número máximo de principais faixas a serem retornadas\n",
    "    'offset': 0  # Deslocamento para resultados de pesquisa paginados (opcional)\n",
    "}\n",
    "\n",
    "top_10_tracks = api.user_top_tracks(parameters)"
   ]
  },
  {
   "cell_type": "code",
   "execution_count": 12,
   "metadata": {},
   "outputs": [],
   "source": [
    "user_info = api.user_info()\n",
    "user_img = pd.DataFrame([user_info['images'][0][0]['url']])\n",
    "user_info = pd.concat([user_info[['display_name']], user_img], axis=1)"
   ]
  },
  {
   "cell_type": "code",
   "execution_count": 14,
   "metadata": {},
   "outputs": [],
   "source": [
    "parameters = {\n",
    "    'time_range': 'long_term',\n",
    "    'limit': 10\n",
    "}\n",
    "\n",
    "\n",
    "top_10_artists = api.user_top_artist(parameters)"
   ]
  },
  {
   "cell_type": "code",
   "execution_count": 49,
   "metadata": {},
   "outputs": [
    {
     "name": "stdout",
     "output_type": "stream",
     "text": [
      "Connected to the database SPOTIFY.\n"
     ]
    }
   ],
   "source": [
    "database = DatabaseOps()\n",
    "database.connect_db()"
   ]
  },
  {
   "cell_type": "code",
   "execution_count": 16,
   "metadata": {},
   "outputs": [
    {
     "name": "stdout",
     "output_type": "stream",
     "text": [
      "Schema exists?  True\n",
      "Insert data to DB\n",
      "Data inserted successfully!\n",
      "Schema exists?  True\n",
      "Insert data to DB\n",
      "Data inserted successfully!\n",
      "Schema exists?  True\n",
      "Insert data to DB\n",
      "Data inserted successfully!\n"
     ]
    }
   ],
   "source": [
    "database.insert(dataframe=top_10_tracks, schema='trusted', table='top_10_tracks', if_exists='replace')\n",
    "database.insert(dataframe=top_10_artists, schema='trusted', table='top_10_artists', if_exists='replace')\n",
    "database.insert(dataframe=user_info, schema='trusted', table='user_info', if_exists='replace')"
   ]
  }
 ],
 "metadata": {
  "kernelspec": {
   "display_name": "datascience",
   "language": "python",
   "name": "python3"
  },
  "language_info": {
   "codemirror_mode": {
    "name": "ipython",
    "version": 3
   },
   "file_extension": ".py",
   "mimetype": "text/x-python",
   "name": "python",
   "nbconvert_exporter": "python",
   "pygments_lexer": "ipython3",
   "version": "3.10.7"
  },
  "orig_nbformat": 4
 },
 "nbformat": 4,
 "nbformat_minor": 2
}
