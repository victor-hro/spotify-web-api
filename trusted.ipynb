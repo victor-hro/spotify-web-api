{
 "cells": [
  {
   "cell_type": "code",
   "execution_count": 1,
   "metadata": {},
   "outputs": [
    {
     "name": "stdout",
     "output_type": "stream",
     "text": [
      "Connected to the database SPOTIFY.\n"
     ]
    }
   ],
   "source": [
    "import pandas as pd\n",
    "from dotenv import find_dotenv, load_dotenv\n",
    "\n",
    "from src.database_operations import DatabaseOps\n",
    "\n",
    "database = DatabaseOps()\n",
    "database.connect_db()\n",
    "\n",
    "env = find_dotenv()\n",
    "load_dotenv(env);"
   ]
  },
  {
   "cell_type": "code",
   "execution_count": 4,
   "metadata": {},
   "outputs": [],
   "source": [
    "def get_tracks():\n",
    "    query = \"\"\"select * from staging.top_10_tracks\"\"\"\n",
    "    return database.run_query(query)\n",
    "\n",
    "def get_artists():\n",
    "    query = \"\"\"select * from trusted.top_10_artists\"\"\"\n",
    "    return database.run_query(query)\n",
    "\n",
    "def get_user_info():\n",
    "    query = \"\"\"select * from staging.user_info\"\"\"\n",
    "    return database.run_query(query)\n",
    "\n",
    "tracks = get_tracks()\n",
    "user = get_user_info()\n",
    "artists = get_artists()"
   ]
  },
  {
   "cell_type": "code",
   "execution_count": 23,
   "metadata": {},
   "outputs": [
    {
     "data": {
      "text/html": [
       "<div>\n",
       "<style scoped>\n",
       "    .dataframe tbody tr th:only-of-type {\n",
       "        vertical-align: middle;\n",
       "    }\n",
       "\n",
       "    .dataframe tbody tr th {\n",
       "        vertical-align: top;\n",
       "    }\n",
       "\n",
       "    .dataframe thead th {\n",
       "        text-align: right;\n",
       "    }\n",
       "</style>\n",
       "<table border=\"1\" class=\"dataframe\">\n",
       "  <thead>\n",
       "    <tr style=\"text-align: right;\">\n",
       "      <th></th>\n",
       "      <th>FREQ</th>\n",
       "    </tr>\n",
       "  </thead>\n",
       "  <tbody>\n",
       "    <tr>\n",
       "      <th>brazilian rock</th>\n",
       "      <td>6</td>\n",
       "    </tr>\n",
       "    <tr>\n",
       "      <th>brazilian hardcore</th>\n",
       "      <td>3</td>\n",
       "    </tr>\n",
       "    <tr>\n",
       "      <th>brazilian post-hardcore</th>\n",
       "      <td>2</td>\n",
       "    </tr>\n",
       "    <tr>\n",
       "      <th>rock</th>\n",
       "      <td>1</td>\n",
       "    </tr>\n",
       "    <tr>\n",
       "      <th>rap</th>\n",
       "      <td>1</td>\n",
       "    </tr>\n",
       "  </tbody>\n",
       "</table>\n",
       "</div>"
      ],
      "text/plain": [
       "                         FREQ\n",
       "brazilian rock              6\n",
       "brazilian hardcore          3\n",
       "brazilian post-hardcore     2\n",
       "rock                        1\n",
       "rap                         1"
      ]
     },
     "execution_count": 23,
     "metadata": {},
     "output_type": "execute_result"
    }
   ],
   "source": [
    "from collections import Counter\n",
    "\n",
    "genres_list = artists['GENRES'].str.split(', ')\n",
    "\n",
    "# Contar a frequência de cada gênero\n",
    "genre_counts = Counter([genre for genres in genres_list for genre in genres])\n",
    "\n",
    "# Converter o resultado em um DataFrame\n",
    "result = pd.DataFrame.from_dict(genre_counts, orient='index', columns=['FREQ'])\n",
    "\n",
    "top_5_generos = result.sort_values('FREQ', ascending=False)[:5]\n",
    "top_5_generos"
   ]
  }
 ],
 "metadata": {
  "kernelspec": {
   "display_name": "datascience",
   "language": "python",
   "name": "python3"
  },
  "language_info": {
   "codemirror_mode": {
    "name": "ipython",
    "version": 3
   },
   "file_extension": ".py",
   "mimetype": "text/x-python",
   "name": "python",
   "nbconvert_exporter": "python",
   "pygments_lexer": "ipython3",
   "version": "3.10.7"
  },
  "orig_nbformat": 4
 },
 "nbformat": 4,
 "nbformat_minor": 2
}
